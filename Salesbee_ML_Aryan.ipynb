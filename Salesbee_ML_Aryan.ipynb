{
 "cells": [
  {
   "cell_type": "code",
   "execution_count": 1,
   "id": "143752e3",
   "metadata": {
    "execution": {
     "iopub.execute_input": "2024-08-21T14:33:24.280266Z",
     "iopub.status.busy": "2024-08-21T14:33:24.279864Z",
     "iopub.status.idle": "2024-08-21T14:33:26.831412Z",
     "shell.execute_reply": "2024-08-21T14:33:26.830412Z"
    },
    "papermill": {
     "duration": 2.559922,
     "end_time": "2024-08-21T14:33:26.834105",
     "exception": false,
     "start_time": "2024-08-21T14:33:24.274183",
     "status": "completed"
    },
    "tags": []
   },
   "outputs": [],
   "source": [
    "import pandas as pd\n",
    "import numpy as np\n",
    "from sklearn.model_selection import train_test_split, GridSearchCV\n",
    "from sklearn.preprocessing import OneHotEncoder, StandardScaler\n",
    "from sklearn.metrics import mean_squared_error, mean_absolute_error, r2_score\n",
    "import xgboost as xgb"
   ]
  },
  {
   "cell_type": "code",
   "execution_count": 2,
   "id": "34521d6d",
   "metadata": {
    "execution": {
     "iopub.execute_input": "2024-08-21T14:33:26.843408Z",
     "iopub.status.busy": "2024-08-21T14:33:26.842848Z",
     "iopub.status.idle": "2024-08-21T14:33:51.227698Z",
     "shell.execute_reply": "2024-08-21T14:33:51.226718Z"
    },
    "papermill": {
     "duration": 24.391964,
     "end_time": "2024-08-21T14:33:51.230297",
     "exception": false,
     "start_time": "2024-08-21T14:33:26.838333",
     "status": "completed"
    },
    "tags": []
   },
   "outputs": [],
   "source": [
    "df = pd.read_csv('/kaggle/input/dataaa/Transactions (1).csv')"
   ]
  },
  {
   "cell_type": "code",
   "execution_count": 3,
   "id": "28ca6952",
   "metadata": {
    "execution": {
     "iopub.execute_input": "2024-08-21T14:33:51.239056Z",
     "iopub.status.busy": "2024-08-21T14:33:51.238097Z",
     "iopub.status.idle": "2024-08-21T14:33:52.527603Z",
     "shell.execute_reply": "2024-08-21T14:33:52.526519Z"
    },
    "papermill": {
     "duration": 1.29656,
     "end_time": "2024-08-21T14:33:52.530228",
     "exception": false,
     "start_time": "2024-08-21T14:33:51.233668",
     "status": "completed"
    },
    "tags": []
   },
   "outputs": [],
   "source": [
    "# Selecting relevant columns (removing Arabic columns)\n",
    "df = df[['trans_group_en', 'procedure_name_en', 'property_type_en', 'property_sub_type_en',\n",
    "         'property_usage_en', 'reg_type_en', 'area_name_en', 'building_name_en', 'project_name_en',\n",
    "         'master_project_en', 'nearest_landmark_en', 'nearest_metro_en', 'nearest_mall_en',\n",
    "         'rooms_en', 'has_parking', 'procedure_area', 'actual_worth', 'meter_sale_price', 'rent_value',\n",
    "         'meter_rent_price', 'no_of_parties_role_1', 'no_of_parties_role_2', 'no_of_parties_role_3']]\n",
    "\n",
    "# Handle missing values\n",
    "df = df.dropna()"
   ]
  },
  {
   "cell_type": "code",
   "execution_count": 4,
   "id": "98c58a47",
   "metadata": {
    "execution": {
     "iopub.execute_input": "2024-08-21T14:33:52.538698Z",
     "iopub.status.busy": "2024-08-21T14:33:52.538315Z",
     "iopub.status.idle": "2024-08-21T14:33:52.560431Z",
     "shell.execute_reply": "2024-08-21T14:33:52.559042Z"
    },
    "papermill": {
     "duration": 0.029478,
     "end_time": "2024-08-21T14:33:52.563069",
     "exception": false,
     "start_time": "2024-08-21T14:33:52.533591",
     "status": "completed"
    },
    "tags": []
   },
   "outputs": [],
   "source": [
    "# Handling outliers by capping\n",
    "for col in ['procedure_area', 'actual_worth', 'meter_sale_price', 'rent_value', 'meter_rent_price']:\n",
    "    q1 = df[col].quantile(0.25)\n",
    "    q3 = df[col].quantile(0.75)\n",
    "    iqr = q3 - q1\n",
    "    lower_bound = q1 - 1.5 * iqr\n",
    "    upper_bound = q3 + 1.5 * iqr\n",
    "    df[col] = np.where(df[col] > upper_bound, upper_bound, np.where(df[col] < lower_bound, lower_bound, df[col]))\n"
   ]
  },
  {
   "cell_type": "code",
   "execution_count": 5,
   "id": "2a1a4c97",
   "metadata": {
    "execution": {
     "iopub.execute_input": "2024-08-21T14:33:52.571362Z",
     "iopub.status.busy": "2024-08-21T14:33:52.570954Z",
     "iopub.status.idle": "2024-08-21T14:33:52.576639Z",
     "shell.execute_reply": "2024-08-21T14:33:52.575487Z"
    },
    "papermill": {
     "duration": 0.012495,
     "end_time": "2024-08-21T14:33:52.578967",
     "exception": false,
     "start_time": "2024-08-21T14:33:52.566472",
     "status": "completed"
    },
    "tags": []
   },
   "outputs": [],
   "source": [
    "# Define categorical and numerical columns\n",
    "categorical_columns = ['trans_group_en', 'procedure_name_en', 'property_type_en', 'property_sub_type_en',\n",
    "                       'property_usage_en', 'reg_type_en', 'area_name_en', 'building_name_en', 'project_name_en',\n",
    "                       'master_project_en', 'nearest_landmark_en', 'nearest_metro_en', 'nearest_mall_en',\n",
    "                       'rooms_en', 'has_parking']\n",
    "\n",
    "numerical_columns = ['procedure_area', 'meter_sale_price', 'rent_value',\n",
    "                     'meter_rent_price', 'no_of_parties_role_1', 'no_of_parties_role_2', 'no_of_parties_role_3']\n"
   ]
  },
  {
   "cell_type": "code",
   "execution_count": 6,
   "id": "39d0a147",
   "metadata": {
    "execution": {
     "iopub.execute_input": "2024-08-21T14:33:52.587463Z",
     "iopub.status.busy": "2024-08-21T14:33:52.586633Z",
     "iopub.status.idle": "2024-08-21T14:33:52.939914Z",
     "shell.execute_reply": "2024-08-21T14:33:52.938734Z"
    },
    "papermill": {
     "duration": 0.360355,
     "end_time": "2024-08-21T14:33:52.942630",
     "exception": false,
     "start_time": "2024-08-21T14:33:52.582275",
     "status": "completed"
    },
    "tags": []
   },
   "outputs": [
    {
     "name": "stderr",
     "output_type": "stream",
     "text": [
      "/opt/conda/lib/python3.10/site-packages/sklearn/preprocessing/_encoders.py:868: FutureWarning: `sparse` was renamed to `sparse_output` in version 1.2 and will be removed in 1.4. `sparse_output` is ignored unless you leave `sparse` to its default value.\n",
      "  warnings.warn(\n"
     ]
    }
   ],
   "source": [
    "\n",
    "# Encode categorical data\n",
    "encoder = OneHotEncoder(sparse=False, handle_unknown='ignore')\n",
    "encoded_categorical_data = encoder.fit_transform(df[categorical_columns])\n",
    "\n",
    "# Combine encoded categorical data with numerical data\n",
    "numerical_data = df[numerical_columns].values\n",
    "combined_data = np.hstack([encoded_categorical_data, numerical_data])\n",
    "\n",
    "# Scale the combined data\n",
    "scaler = StandardScaler()\n",
    "scaled_data = scaler.fit_transform(combined_data)\n",
    "\n",
    "# Define the target variable\n",
    "X = scaled_data\n",
    "y = df['actual_worth'].values\n",
    "\n",
    "# Split the data into training, validation, and testing sets\n",
    "X_train, X_temp, y_train, y_temp = train_test_split(X, y, test_size=0.3, random_state=42)\n",
    "X_val, X_test, y_val, y_test = train_test_split(X_temp, y_temp, test_size=0.5, random_state=42)\n"
   ]
  },
  {
   "cell_type": "code",
   "execution_count": 7,
   "id": "3514b2d2",
   "metadata": {
    "execution": {
     "iopub.execute_input": "2024-08-21T14:33:52.952371Z",
     "iopub.status.busy": "2024-08-21T14:33:52.951315Z",
     "iopub.status.idle": "2024-08-21T15:10:16.494433Z",
     "shell.execute_reply": "2024-08-21T15:10:16.492650Z"
    },
    "papermill": {
     "duration": 2183.555617,
     "end_time": "2024-08-21T15:10:16.501696",
     "exception": false,
     "start_time": "2024-08-21T14:33:52.946079",
     "status": "completed"
    },
    "tags": []
   },
   "outputs": [
    {
     "name": "stdout",
     "output_type": "stream",
     "text": [
      "Fitting 3 folds for each of 324 candidates, totalling 972 fits\n"
     ]
    },
    {
     "data": {
      "text/html": [
       "<style>#sk-container-id-1 {color: black;background-color: white;}#sk-container-id-1 pre{padding: 0;}#sk-container-id-1 div.sk-toggleable {background-color: white;}#sk-container-id-1 label.sk-toggleable__label {cursor: pointer;display: block;width: 100%;margin-bottom: 0;padding: 0.3em;box-sizing: border-box;text-align: center;}#sk-container-id-1 label.sk-toggleable__label-arrow:before {content: \"▸\";float: left;margin-right: 0.25em;color: #696969;}#sk-container-id-1 label.sk-toggleable__label-arrow:hover:before {color: black;}#sk-container-id-1 div.sk-estimator:hover label.sk-toggleable__label-arrow:before {color: black;}#sk-container-id-1 div.sk-toggleable__content {max-height: 0;max-width: 0;overflow: hidden;text-align: left;background-color: #f0f8ff;}#sk-container-id-1 div.sk-toggleable__content pre {margin: 0.2em;color: black;border-radius: 0.25em;background-color: #f0f8ff;}#sk-container-id-1 input.sk-toggleable__control:checked~div.sk-toggleable__content {max-height: 200px;max-width: 100%;overflow: auto;}#sk-container-id-1 input.sk-toggleable__control:checked~label.sk-toggleable__label-arrow:before {content: \"▾\";}#sk-container-id-1 div.sk-estimator input.sk-toggleable__control:checked~label.sk-toggleable__label {background-color: #d4ebff;}#sk-container-id-1 div.sk-label input.sk-toggleable__control:checked~label.sk-toggleable__label {background-color: #d4ebff;}#sk-container-id-1 input.sk-hidden--visually {border: 0;clip: rect(1px 1px 1px 1px);clip: rect(1px, 1px, 1px, 1px);height: 1px;margin: -1px;overflow: hidden;padding: 0;position: absolute;width: 1px;}#sk-container-id-1 div.sk-estimator {font-family: monospace;background-color: #f0f8ff;border: 1px dotted black;border-radius: 0.25em;box-sizing: border-box;margin-bottom: 0.5em;}#sk-container-id-1 div.sk-estimator:hover {background-color: #d4ebff;}#sk-container-id-1 div.sk-parallel-item::after {content: \"\";width: 100%;border-bottom: 1px solid gray;flex-grow: 1;}#sk-container-id-1 div.sk-label:hover label.sk-toggleable__label {background-color: #d4ebff;}#sk-container-id-1 div.sk-serial::before {content: \"\";position: absolute;border-left: 1px solid gray;box-sizing: border-box;top: 0;bottom: 0;left: 50%;z-index: 0;}#sk-container-id-1 div.sk-serial {display: flex;flex-direction: column;align-items: center;background-color: white;padding-right: 0.2em;padding-left: 0.2em;position: relative;}#sk-container-id-1 div.sk-item {position: relative;z-index: 1;}#sk-container-id-1 div.sk-parallel {display: flex;align-items: stretch;justify-content: center;background-color: white;position: relative;}#sk-container-id-1 div.sk-item::before, #sk-container-id-1 div.sk-parallel-item::before {content: \"\";position: absolute;border-left: 1px solid gray;box-sizing: border-box;top: 0;bottom: 0;left: 50%;z-index: -1;}#sk-container-id-1 div.sk-parallel-item {display: flex;flex-direction: column;z-index: 1;position: relative;background-color: white;}#sk-container-id-1 div.sk-parallel-item:first-child::after {align-self: flex-end;width: 50%;}#sk-container-id-1 div.sk-parallel-item:last-child::after {align-self: flex-start;width: 50%;}#sk-container-id-1 div.sk-parallel-item:only-child::after {width: 0;}#sk-container-id-1 div.sk-dashed-wrapped {border: 1px dashed gray;margin: 0 0.4em 0.5em 0.4em;box-sizing: border-box;padding-bottom: 0.4em;background-color: white;}#sk-container-id-1 div.sk-label label {font-family: monospace;font-weight: bold;display: inline-block;line-height: 1.2em;}#sk-container-id-1 div.sk-label-container {text-align: center;}#sk-container-id-1 div.sk-container {/* jupyter's `normalize.less` sets `[hidden] { display: none; }` but bootstrap.min.css set `[hidden] { display: none !important; }` so we also need the `!important` here to be able to override the default hidden behavior on the sphinx rendered scikit-learn.org. See: https://github.com/scikit-learn/scikit-learn/issues/21755 */display: inline-block !important;position: relative;}#sk-container-id-1 div.sk-text-repr-fallback {display: none;}</style><div id=\"sk-container-id-1\" class=\"sk-top-container\"><div class=\"sk-text-repr-fallback\"><pre>GridSearchCV(cv=3,\n",
       "             estimator=XGBRegressor(base_score=None, booster=None,\n",
       "                                    callbacks=None, colsample_bylevel=None,\n",
       "                                    colsample_bynode=None,\n",
       "                                    colsample_bytree=None, device=None,\n",
       "                                    early_stopping_rounds=None,\n",
       "                                    enable_categorical=False, eval_metric=None,\n",
       "                                    feature_types=None, gamma=None,\n",
       "                                    grow_policy=None, importance_type=None,\n",
       "                                    interaction_constraints=None,\n",
       "                                    learning_rate=None, m...\n",
       "                                    min_child_weight=None, missing=nan,\n",
       "                                    monotone_constraints=None,\n",
       "                                    multi_strategy=None, n_estimators=None,\n",
       "                                    n_jobs=None, num_parallel_tree=None,\n",
       "                                    random_state=42, ...),\n",
       "             n_jobs=-1,\n",
       "             param_grid={&#x27;colsample_bytree&#x27;: [0.8, 1.0],\n",
       "                         &#x27;learning_rate&#x27;: [0.01, 0.1, 0.2],\n",
       "                         &#x27;max_depth&#x27;: [4, 6, 8], &#x27;min_child_weight&#x27;: [1, 3, 5],\n",
       "                         &#x27;n_estimators&#x27;: [100, 200, 300],\n",
       "                         &#x27;subsample&#x27;: [0.8, 1.0]},\n",
       "             scoring=&#x27;r2&#x27;, verbose=1)</pre><b>In a Jupyter environment, please rerun this cell to show the HTML representation or trust the notebook. <br />On GitHub, the HTML representation is unable to render, please try loading this page with nbviewer.org.</b></div><div class=\"sk-container\" hidden><div class=\"sk-item sk-dashed-wrapped\"><div class=\"sk-label-container\"><div class=\"sk-label sk-toggleable\"><input class=\"sk-toggleable__control sk-hidden--visually\" id=\"sk-estimator-id-1\" type=\"checkbox\" ><label for=\"sk-estimator-id-1\" class=\"sk-toggleable__label sk-toggleable__label-arrow\">GridSearchCV</label><div class=\"sk-toggleable__content\"><pre>GridSearchCV(cv=3,\n",
       "             estimator=XGBRegressor(base_score=None, booster=None,\n",
       "                                    callbacks=None, colsample_bylevel=None,\n",
       "                                    colsample_bynode=None,\n",
       "                                    colsample_bytree=None, device=None,\n",
       "                                    early_stopping_rounds=None,\n",
       "                                    enable_categorical=False, eval_metric=None,\n",
       "                                    feature_types=None, gamma=None,\n",
       "                                    grow_policy=None, importance_type=None,\n",
       "                                    interaction_constraints=None,\n",
       "                                    learning_rate=None, m...\n",
       "                                    min_child_weight=None, missing=nan,\n",
       "                                    monotone_constraints=None,\n",
       "                                    multi_strategy=None, n_estimators=None,\n",
       "                                    n_jobs=None, num_parallel_tree=None,\n",
       "                                    random_state=42, ...),\n",
       "             n_jobs=-1,\n",
       "             param_grid={&#x27;colsample_bytree&#x27;: [0.8, 1.0],\n",
       "                         &#x27;learning_rate&#x27;: [0.01, 0.1, 0.2],\n",
       "                         &#x27;max_depth&#x27;: [4, 6, 8], &#x27;min_child_weight&#x27;: [1, 3, 5],\n",
       "                         &#x27;n_estimators&#x27;: [100, 200, 300],\n",
       "                         &#x27;subsample&#x27;: [0.8, 1.0]},\n",
       "             scoring=&#x27;r2&#x27;, verbose=1)</pre></div></div></div><div class=\"sk-parallel\"><div class=\"sk-parallel-item\"><div class=\"sk-item\"><div class=\"sk-label-container\"><div class=\"sk-label sk-toggleable\"><input class=\"sk-toggleable__control sk-hidden--visually\" id=\"sk-estimator-id-2\" type=\"checkbox\" ><label for=\"sk-estimator-id-2\" class=\"sk-toggleable__label sk-toggleable__label-arrow\">estimator: XGBRegressor</label><div class=\"sk-toggleable__content\"><pre>XGBRegressor(base_score=None, booster=None, callbacks=None,\n",
       "             colsample_bylevel=None, colsample_bynode=None,\n",
       "             colsample_bytree=None, device=None, early_stopping_rounds=None,\n",
       "             enable_categorical=False, eval_metric=None, feature_types=None,\n",
       "             gamma=None, grow_policy=None, importance_type=None,\n",
       "             interaction_constraints=None, learning_rate=None, max_bin=None,\n",
       "             max_cat_threshold=None, max_cat_to_onehot=None,\n",
       "             max_delta_step=None, max_depth=None, max_leaves=None,\n",
       "             min_child_weight=None, missing=nan, monotone_constraints=None,\n",
       "             multi_strategy=None, n_estimators=None, n_jobs=None,\n",
       "             num_parallel_tree=None, random_state=42, ...)</pre></div></div></div><div class=\"sk-serial\"><div class=\"sk-item\"><div class=\"sk-estimator sk-toggleable\"><input class=\"sk-toggleable__control sk-hidden--visually\" id=\"sk-estimator-id-3\" type=\"checkbox\" ><label for=\"sk-estimator-id-3\" class=\"sk-toggleable__label sk-toggleable__label-arrow\">XGBRegressor</label><div class=\"sk-toggleable__content\"><pre>XGBRegressor(base_score=None, booster=None, callbacks=None,\n",
       "             colsample_bylevel=None, colsample_bynode=None,\n",
       "             colsample_bytree=None, device=None, early_stopping_rounds=None,\n",
       "             enable_categorical=False, eval_metric=None, feature_types=None,\n",
       "             gamma=None, grow_policy=None, importance_type=None,\n",
       "             interaction_constraints=None, learning_rate=None, max_bin=None,\n",
       "             max_cat_threshold=None, max_cat_to_onehot=None,\n",
       "             max_delta_step=None, max_depth=None, max_leaves=None,\n",
       "             min_child_weight=None, missing=nan, monotone_constraints=None,\n",
       "             multi_strategy=None, n_estimators=None, n_jobs=None,\n",
       "             num_parallel_tree=None, random_state=42, ...)</pre></div></div></div></div></div></div></div></div></div></div>"
      ],
      "text/plain": [
       "GridSearchCV(cv=3,\n",
       "             estimator=XGBRegressor(base_score=None, booster=None,\n",
       "                                    callbacks=None, colsample_bylevel=None,\n",
       "                                    colsample_bynode=None,\n",
       "                                    colsample_bytree=None, device=None,\n",
       "                                    early_stopping_rounds=None,\n",
       "                                    enable_categorical=False, eval_metric=None,\n",
       "                                    feature_types=None, gamma=None,\n",
       "                                    grow_policy=None, importance_type=None,\n",
       "                                    interaction_constraints=None,\n",
       "                                    learning_rate=None, m...\n",
       "                                    min_child_weight=None, missing=nan,\n",
       "                                    monotone_constraints=None,\n",
       "                                    multi_strategy=None, n_estimators=None,\n",
       "                                    n_jobs=None, num_parallel_tree=None,\n",
       "                                    random_state=42, ...),\n",
       "             n_jobs=-1,\n",
       "             param_grid={'colsample_bytree': [0.8, 1.0],\n",
       "                         'learning_rate': [0.01, 0.1, 0.2],\n",
       "                         'max_depth': [4, 6, 8], 'min_child_weight': [1, 3, 5],\n",
       "                         'n_estimators': [100, 200, 300],\n",
       "                         'subsample': [0.8, 1.0]},\n",
       "             scoring='r2', verbose=1)"
      ]
     },
     "execution_count": 7,
     "metadata": {},
     "output_type": "execute_result"
    }
   ],
   "source": [
    "# Hyperparameter tuning using GridSearchCV\n",
    "param_grid = {\n",
    "    'n_estimators': [100, 200, 300],\n",
    "    'learning_rate': [0.01, 0.1, 0.2],\n",
    "    'max_depth': [4, 6, 8],\n",
    "    'min_child_weight': [1, 3, 5],\n",
    "    'subsample': [0.8, 1.0],\n",
    "    'colsample_bytree': [0.8, 1.0]\n",
    "}\n",
    "\n",
    "xgb_model = xgb.XGBRegressor(objective='reg:squarederror', random_state=42)\n",
    "grid_search = GridSearchCV(estimator=xgb_model, param_grid=param_grid, cv=3, scoring='r2', verbose=1, n_jobs=-1)\n",
    "grid_search.fit(X_train, y_train)"
   ]
  },
  {
   "cell_type": "code",
   "execution_count": 8,
   "id": "0a2c086b",
   "metadata": {
    "execution": {
     "iopub.execute_input": "2024-08-21T15:10:16.511579Z",
     "iopub.status.busy": "2024-08-21T15:10:16.511125Z",
     "iopub.status.idle": "2024-08-21T15:10:16.551267Z",
     "shell.execute_reply": "2024-08-21T15:10:16.550168Z"
    },
    "papermill": {
     "duration": 0.048283,
     "end_time": "2024-08-21T15:10:16.553974",
     "exception": false,
     "start_time": "2024-08-21T15:10:16.505691",
     "status": "completed"
    },
    "tags": []
   },
   "outputs": [
    {
     "name": "stdout",
     "output_type": "stream",
     "text": [
      "Validation Mean Squared Error: 21309468.02626158\n",
      "Validation Mean Absolute Error: 2588.4588815789475\n",
      "Validation R-squared: 0.9999518971662502\n",
      "Test Mean Squared Error: 17749935.47957812\n",
      "Test Mean Absolute Error: 2519.3257863898025\n",
      "Test R-squared: 0.999962167071641\n"
     ]
    }
   ],
   "source": [
    "# Best model from grid search\n",
    "best_xgb_model = grid_search.best_estimator_\n",
    "\n",
    "# Evaluate on validation set\n",
    "y_val_pred = best_xgb_model.predict(X_val)\n",
    "val_mse = mean_squared_error(y_val, y_val_pred)\n",
    "val_mae = mean_absolute_error(y_val, y_val_pred)\n",
    "val_r2 = r2_score(y_val, y_val_pred)\n",
    "\n",
    "print(f\"Validation Mean Squared Error: {val_mse}\")\n",
    "print(f\"Validation Mean Absolute Error: {val_mae}\")\n",
    "print(f\"Validation R-squared: {val_r2}\")\n",
    "\n",
    "# Evaluate on test set\n",
    "y_test_pred = best_xgb_model.predict(X_test)\n",
    "test_mse = mean_squared_error(y_test, y_test_pred)\n",
    "test_mae = mean_absolute_error(y_test, y_test_pred)\n",
    "test_r2 = r2_score(y_test, y_test_pred)\n",
    "\n",
    "print(f\"Test Mean Squared Error: {test_mse}\")\n",
    "print(f\"Test Mean Absolute Error: {test_mae}\")\n",
    "print(f\"Test R-squared: {test_r2}\")"
   ]
  },
  {
   "cell_type": "code",
   "execution_count": 9,
   "id": "1a9b70ae",
   "metadata": {
    "execution": {
     "iopub.execute_input": "2024-08-21T15:10:16.563716Z",
     "iopub.status.busy": "2024-08-21T15:10:16.563318Z",
     "iopub.status.idle": "2024-08-21T15:10:16.572026Z",
     "shell.execute_reply": "2024-08-21T15:10:16.570732Z"
    },
    "papermill": {
     "duration": 0.01634,
     "end_time": "2024-08-21T15:10:16.574316",
     "exception": false,
     "start_time": "2024-08-21T15:10:16.557976",
     "status": "completed"
    },
    "tags": []
   },
   "outputs": [],
   "source": [
    "# Function to predict price range and confidence given new input data\n",
    "def predict_price_range_with_confidence(input_data, n_models=100):\n",
    "    input_data_encoded = encoder.transform(input_data[categorical_columns])\n",
    "    input_data_numeric = input_data[numerical_columns].values\n",
    "    input_data_combined = np.hstack([input_data_encoded, input_data_numeric])\n",
    "    input_data_scaled = scaler.transform(input_data_combined)\n",
    "    \n",
    "    # Generate predictions with multiple models to calculate confidence\n",
    "    predictions = []\n",
    "    for _ in range(n_models):\n",
    "        bootstrap_model = xgb.XGBRegressor(objective='reg:squarederror', random_state=np.random.randint(0, 10000))\n",
    "        bootstrap_model.set_params(**grid_search.best_params_)\n",
    "        bootstrap_model.fit(X_train, y_train)\n",
    "        prediction = bootstrap_model.predict(input_data_scaled)\n",
    "        predictions.append(prediction)\n",
    "    \n",
    "    predictions = np.array(predictions).flatten()\n",
    "    mean_prediction = np.mean(predictions)\n",
    "    std_prediction = np.std(predictions)\n",
    "    \n",
    "    confidence_interval = 1.96 * std_prediction  # 95% confidence interval\n",
    "    return mean_prediction, confidence_interval"
   ]
  },
  {
   "cell_type": "code",
   "execution_count": 10,
   "id": "576e5d99",
   "metadata": {
    "execution": {
     "iopub.execute_input": "2024-08-21T15:10:16.584329Z",
     "iopub.status.busy": "2024-08-21T15:10:16.583907Z",
     "iopub.status.idle": "2024-08-21T15:14:44.271191Z",
     "shell.execute_reply": "2024-08-21T15:14:44.270285Z"
    },
    "papermill": {
     "duration": 267.699354,
     "end_time": "2024-08-21T15:14:44.277786",
     "exception": false,
     "start_time": "2024-08-21T15:10:16.578432",
     "status": "completed"
    },
    "tags": []
   },
   "outputs": [
    {
     "name": "stdout",
     "output_type": "stream",
     "text": [
      "Predicted Price: 199688.9375\n",
      "95% Confidence Interval: ±0.06125\n"
     ]
    }
   ],
   "source": [
    "\n",
    "# Example function to take custom input and get prediction with confidence\n",
    "def evaluate_custom_input(trans_group, procedure_name, property_type, property_sub_type, \n",
    "                          property_usage, reg_type, area_name, building_name, project_name, \n",
    "                          master_project, nearest_landmark, nearest_metro, nearest_mall, \n",
    "                          rooms, has_parking, procedure_area, meter_sale_price, rent_value, \n",
    "                          meter_rent_price, no_of_parties_role_1, no_of_parties_role_2, no_of_parties_role_3):\n",
    "    custom_input = pd.DataFrame({\n",
    "        'trans_group_en': [trans_group], \n",
    "        'procedure_name_en': [procedure_name], \n",
    "        'property_type_en': [property_type],\n",
    "        'property_sub_type_en': [property_sub_type],\n",
    "        'property_usage_en': [property_usage],\n",
    "        'reg_type_en': [reg_type],\n",
    "        'area_name_en': [area_name],\n",
    "        'building_name_en': [building_name],\n",
    "        'project_name_en': [project_name],\n",
    "        'master_project_en': [master_project],\n",
    "        'nearest_landmark_en': [nearest_landmark],\n",
    "        'nearest_metro_en': [nearest_metro],\n",
    "        'nearest_mall_en': [nearest_mall],\n",
    "        'rooms_en': [rooms],\n",
    "        'has_parking': [has_parking],\n",
    "        'procedure_area': [procedure_area],\n",
    "        'meter_sale_price': [meter_sale_price],\n",
    "        'rent_value': [rent_value],\n",
    "        'meter_rent_price': [meter_rent_price],\n",
    "        'no_of_parties_role_1': [no_of_parties_role_1],\n",
    "        'no_of_parties_role_2': [no_of_parties_role_2],\n",
    "        'no_of_parties_role_3': [no_of_parties_role_3]\n",
    "    })\n",
    "\n",
    "    predicted_price, confidence = predict_price_range_with_confidence(custom_input)\n",
    "    return predicted_price, confidence\n",
    "\n",
    "# Example usage\n",
    "predicted_price, confidence = evaluate_custom_input('group1', 'procedure1', 'type1', 'subtype1', 'usage1', \n",
    "                                                    'reg1', 'area1', 'building1', 'project1', 'master1', \n",
    "                                                    'landmark1', 'metro1', 'mall1', '3', 'yes', \n",
    "                                                    1000, 5000000, 20000, 500, 1, 2, 3)\n",
    "\n",
    "print(f\"Predicted Price: {predicted_price}\")\n",
    "print(f\"95% Confidence Interval: ±{confidence}\")"
   ]
  }
 ],
 "metadata": {
  "kaggle": {
   "accelerator": "none",
   "dataSources": [
    {
     "datasetId": 5574249,
     "sourceId": 9217854,
     "sourceType": "datasetVersion"
    }
   ],
   "dockerImageVersionId": 30746,
   "isGpuEnabled": false,
   "isInternetEnabled": true,
   "language": "python",
   "sourceType": "notebook"
  },
  "kernelspec": {
   "display_name": "Python 3",
   "language": "python",
   "name": "python3"
  },
  "language_info": {
   "codemirror_mode": {
    "name": "ipython",
    "version": 3
   },
   "file_extension": ".py",
   "mimetype": "text/x-python",
   "name": "python",
   "nbconvert_exporter": "python",
   "pygments_lexer": "ipython3",
   "version": "3.10.13"
  },
  "papermill": {
   "default_parameters": {},
   "duration": 2485.489206,
   "end_time": "2024-08-21T15:14:46.909696",
   "environment_variables": {},
   "exception": null,
   "input_path": "__notebook__.ipynb",
   "output_path": "__notebook__.ipynb",
   "parameters": {},
   "start_time": "2024-08-21T14:33:21.420490",
   "version": "2.5.0"
  }
 },
 "nbformat": 4,
 "nbformat_minor": 5
}
